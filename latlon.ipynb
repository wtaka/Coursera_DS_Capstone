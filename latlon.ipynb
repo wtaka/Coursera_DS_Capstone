{
 "cells": [
  {
   "cell_type": "code",
   "execution_count": null,
   "metadata": {},
   "outputs": [],
   "source": []
  },
  {
   "cell_type": "code",
   "execution_count": 1,
   "metadata": {},
   "outputs": [],
   "source": [
    "import pandas as pd\n",
    "import numpy as np"
   ]
  },
  {
   "cell_type": "code",
   "execution_count": 3,
   "metadata": {},
   "outputs": [
    {
     "name": "stdout",
     "output_type": "stream",
     "text": [
      "Requirement already satisfied: msgpack in /home/jupyterlab/conda/lib/python3.6/site-packages (0.5.6)\n",
      "Requirement already satisfied: beautifulsoup4 in /home/jupyterlab/conda/lib/python3.6/site-packages (4.6.0)\n"
     ]
    }
   ],
   "source": [
    "!pip install msgpack\n",
    "!pip install beautifulsoup4"
   ]
  },
  {
   "cell_type": "code",
   "execution_count": 4,
   "metadata": {},
   "outputs": [],
   "source": [
    "import requests\n",
    "from bs4 import BeautifulSoup"
   ]
  },
  {
   "cell_type": "markdown",
   "metadata": {},
   "source": [
    "Define URL"
   ]
  },
  {
   "cell_type": "code",
   "execution_count": 5,
   "metadata": {},
   "outputs": [],
   "source": [
    "url = 'https://en.wikipedia.org/wiki/List_of_postal_codes_of_Canada:_M'"
   ]
  },
  {
   "cell_type": "markdown",
   "metadata": {},
   "source": [
    "Capture table from URL"
   ]
  },
  {
   "cell_type": "code",
   "execution_count": 6,
   "metadata": {},
   "outputs": [],
   "source": [
    "response = requests.get(url)\n",
    "html = response.content\n",
    "soup = BeautifulSoup(html, \"lxml\")\n",
    "table = soup.find('tbody')"
   ]
  },
  {
   "cell_type": "markdown",
   "metadata": {},
   "source": [
    "Create list from html table"
   ]
  },
  {
   "cell_type": "code",
   "execution_count": 7,
   "metadata": {},
   "outputs": [],
   "source": [
    "list_of_rows = []\n",
    "list_of_cells = []\n",
    "app_row = True\n",
    "last_zip = \"\"\n",
    "same_zip = False\n",
    "body = False\n",
    "\n",
    "for row in table.findAll('tr'):\n",
    "    col = 0\n",
    "    borough = \"\"\n",
    "\n",
    "    for cell in row.findAll('th'):\n",
    "        text = cell.text.replace('&nbsp;', '')\n",
    "        text = cell.text.replace('\\n', '')\n",
    "        list_of_cells.append(text)\n",
    "\n",
    "    for cell in row.findAll('td'):\n",
    "        text = cell.text.replace('&nbsp;', '')\n",
    "        text = cell.text.replace('\\n', '')\n",
    "        col = col+1\n",
    "        #print(str(col) + \": [\" + text + \"]\")\n",
    "        if (col==1):\n",
    "            if (text==last_zip):\n",
    "                same_zip = True\n",
    "            else:\n",
    "                if (app_row):\n",
    "                    if (body):\n",
    "                        list_of_cells.append(hood)\n",
    "                    else:\n",
    "                        body = True\n",
    "                    #print(list_of_cells)\n",
    "                    list_of_rows.append(list_of_cells)\n",
    "                    #print(\"appended.\")\n",
    "                list_of_cells = []\n",
    "                same_zip = False\n",
    "                last_zip = text\n",
    "                app_row = True\n",
    "                list_of_cells.append(text)\n",
    "                \n",
    "        elif (col==2):\n",
    "            \n",
    "            borough = text\n",
    "            if (text==\"Not assigned\"):\n",
    "                app_row = False\n",
    "            else:\n",
    "                if (not same_zip):\n",
    "                    list_of_cells.append(borough)\n",
    "                    \n",
    "            #print(\"    borough = \" + borough)\n",
    "            \n",
    "        elif (col==3):\n",
    "            \n",
    "            if (app_row):\n",
    "                \n",
    "                if (text==\"Not assigned\"):\n",
    "                    text = borough\n",
    "                    \n",
    "                if (same_zip):\n",
    "                    hood = text + \", \" + hood\n",
    "                else:\n",
    "                    hood = text\n",
    "                \n",
    "            #print(\"    text = \" + text)\n",
    "        #list_of_cells.append(text)\n",
    "        \n",
    "        #print(list_of_cells)\n"
   ]
  },
  {
   "cell_type": "markdown",
   "metadata": {},
   "source": [
    "Create DataFrame from list with first row as header"
   ]
  },
  {
   "cell_type": "markdown",
   "metadata": {},
   "source": [
    "Show # of rows in DataFrame"
   ]
  },
  {
   "cell_type": "code",
   "execution_count": 10,
   "metadata": {},
   "outputs": [
    {
     "name": "stdout",
     "output_type": "stream",
     "text": [
      "  Postcode           Borough                     Neighbourhood\n",
      "0      M3A        North York                         Parkwoods\n",
      "1      M4A        North York                  Victoria Village\n",
      "2      M5A  Downtown Toronto         Regent Park, Harbourfront\n",
      "3      M6A        North York  Lawrence Manor, Lawrence Heights\n",
      "4      M7A      Queen's Park                      Queen's Park\n",
      "5      M9A         Etobicoke                  Islington Avenue\n",
      "6      M1B       Scarborough                    Malvern, Rouge\n",
      "7      M3B        North York                   Don Mills North\n",
      "8      M4B         East York   Parkview Hill, Woodbine Gardens\n",
      "9      M5B  Downtown Toronto          Garden District, Ryerson\n"
     ]
    },
    {
     "data": {
      "text/plain": [
       "(103, 3)"
      ]
     },
     "execution_count": 10,
     "metadata": {},
     "output_type": "execute_result"
    }
   ],
   "source": [
    "df = pd.DataFrame.from_records(list_of_rows[1:], columns=list_of_rows[0])\n",
    "print(df.head(10))\n",
    "df.shape"
   ]
  },
  {
   "cell_type": "markdown",
   "metadata": {},
   "source": [
    "Merge zip DataFrame with coordinate file to make Lat/Lon DataFrame"
   ]
  },
  {
   "cell_type": "code",
   "execution_count": 12,
   "metadata": {},
   "outputs": [
    {
     "data": {
      "text/html": [
       "<div>\n",
       "<style scoped>\n",
       "    .dataframe tbody tr th:only-of-type {\n",
       "        vertical-align: middle;\n",
       "    }\n",
       "\n",
       "    .dataframe tbody tr th {\n",
       "        vertical-align: top;\n",
       "    }\n",
       "\n",
       "    .dataframe thead th {\n",
       "        text-align: right;\n",
       "    }\n",
       "</style>\n",
       "<table border=\"1\" class=\"dataframe\">\n",
       "  <thead>\n",
       "    <tr style=\"text-align: right;\">\n",
       "      <th></th>\n",
       "      <th>Postcode</th>\n",
       "      <th>Borough</th>\n",
       "      <th>Neighbourhood</th>\n",
       "      <th>Latitude</th>\n",
       "      <th>Longitude</th>\n",
       "    </tr>\n",
       "  </thead>\n",
       "  <tbody>\n",
       "    <tr>\n",
       "      <th>0</th>\n",
       "      <td>M3A</td>\n",
       "      <td>North York</td>\n",
       "      <td>Parkwoods</td>\n",
       "      <td>43.753259</td>\n",
       "      <td>-79.329656</td>\n",
       "    </tr>\n",
       "    <tr>\n",
       "      <th>1</th>\n",
       "      <td>M4A</td>\n",
       "      <td>North York</td>\n",
       "      <td>Victoria Village</td>\n",
       "      <td>43.725882</td>\n",
       "      <td>-79.315572</td>\n",
       "    </tr>\n",
       "    <tr>\n",
       "      <th>2</th>\n",
       "      <td>M5A</td>\n",
       "      <td>Downtown Toronto</td>\n",
       "      <td>Regent Park, Harbourfront</td>\n",
       "      <td>43.654260</td>\n",
       "      <td>-79.360636</td>\n",
       "    </tr>\n",
       "    <tr>\n",
       "      <th>3</th>\n",
       "      <td>M6A</td>\n",
       "      <td>North York</td>\n",
       "      <td>Lawrence Manor, Lawrence Heights</td>\n",
       "      <td>43.718518</td>\n",
       "      <td>-79.464763</td>\n",
       "    </tr>\n",
       "    <tr>\n",
       "      <th>4</th>\n",
       "      <td>M7A</td>\n",
       "      <td>Queen's Park</td>\n",
       "      <td>Queen's Park</td>\n",
       "      <td>43.662301</td>\n",
       "      <td>-79.389494</td>\n",
       "    </tr>\n",
       "    <tr>\n",
       "      <th>5</th>\n",
       "      <td>M9A</td>\n",
       "      <td>Etobicoke</td>\n",
       "      <td>Islington Avenue</td>\n",
       "      <td>43.667856</td>\n",
       "      <td>-79.532242</td>\n",
       "    </tr>\n",
       "    <tr>\n",
       "      <th>6</th>\n",
       "      <td>M1B</td>\n",
       "      <td>Scarborough</td>\n",
       "      <td>Malvern, Rouge</td>\n",
       "      <td>43.806686</td>\n",
       "      <td>-79.194353</td>\n",
       "    </tr>\n",
       "    <tr>\n",
       "      <th>7</th>\n",
       "      <td>M3B</td>\n",
       "      <td>North York</td>\n",
       "      <td>Don Mills North</td>\n",
       "      <td>43.745906</td>\n",
       "      <td>-79.352188</td>\n",
       "    </tr>\n",
       "    <tr>\n",
       "      <th>8</th>\n",
       "      <td>M4B</td>\n",
       "      <td>East York</td>\n",
       "      <td>Parkview Hill, Woodbine Gardens</td>\n",
       "      <td>43.706397</td>\n",
       "      <td>-79.309937</td>\n",
       "    </tr>\n",
       "    <tr>\n",
       "      <th>9</th>\n",
       "      <td>M5B</td>\n",
       "      <td>Downtown Toronto</td>\n",
       "      <td>Garden District, Ryerson</td>\n",
       "      <td>43.657162</td>\n",
       "      <td>-79.378937</td>\n",
       "    </tr>\n",
       "  </tbody>\n",
       "</table>\n",
       "</div>"
      ],
      "text/plain": [
       "  Postcode           Borough                     Neighbourhood   Latitude  \\\n",
       "0      M3A        North York                         Parkwoods  43.753259   \n",
       "1      M4A        North York                  Victoria Village  43.725882   \n",
       "2      M5A  Downtown Toronto         Regent Park, Harbourfront  43.654260   \n",
       "3      M6A        North York  Lawrence Manor, Lawrence Heights  43.718518   \n",
       "4      M7A      Queen's Park                      Queen's Park  43.662301   \n",
       "5      M9A         Etobicoke                  Islington Avenue  43.667856   \n",
       "6      M1B       Scarborough                    Malvern, Rouge  43.806686   \n",
       "7      M3B        North York                   Don Mills North  43.745906   \n",
       "8      M4B         East York   Parkview Hill, Woodbine Gardens  43.706397   \n",
       "9      M5B  Downtown Toronto          Garden District, Ryerson  43.657162   \n",
       "\n",
       "   Longitude  \n",
       "0 -79.329656  \n",
       "1 -79.315572  \n",
       "2 -79.360636  \n",
       "3 -79.464763  \n",
       "4 -79.389494  \n",
       "5 -79.532242  \n",
       "6 -79.194353  \n",
       "7 -79.352188  \n",
       "8 -79.309937  \n",
       "9 -79.378937  "
      ]
     },
     "execution_count": 12,
     "metadata": {},
     "output_type": "execute_result"
    }
   ],
   "source": [
    "gc_df = pd.read_csv('Geospatial_Coordinates.csv')\n",
    "gc_df.columns = ['Postcode', 'Latitude', 'Longitude']\n",
    "\n",
    "latlon_df = pd.merge(df, gc_df, on='Postcode')\n",
    "latlon_df.head(10)"
   ]
  },
  {
   "cell_type": "code",
   "execution_count": null,
   "metadata": {},
   "outputs": [],
   "source": []
  }
 ],
 "metadata": {
  "kernelspec": {
   "display_name": "Python 3",
   "language": "python",
   "name": "python3"
  },
  "language_info": {
   "codemirror_mode": {
    "name": "ipython",
    "version": 3
   },
   "file_extension": ".py",
   "mimetype": "text/x-python",
   "name": "python",
   "nbconvert_exporter": "python",
   "pygments_lexer": "ipython3",
   "version": "3.6.5"
  }
 },
 "nbformat": 4,
 "nbformat_minor": 2
}
